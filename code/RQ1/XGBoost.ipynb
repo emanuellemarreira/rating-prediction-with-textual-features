{
 "cells": [
  {
   "cell_type": "code",
   "execution_count": 5,
   "metadata": {
    "executionInfo": {
     "elapsed": 37,
     "status": "ok",
     "timestamp": 1747175972818,
     "user": {
      "displayName": "Emanuelle",
      "userId": "06585436362636599965"
     },
     "user_tz": 240
    },
    "id": "FF16EOklv9Zj"
   },
   "outputs": [],
   "source": [
    "import pandas as pd\n",
    "import numpy as np\n",
    "import nltk\n",
    "from xgboost import XGBClassifier\n",
    "from sklearn import metrics\n",
    "from sklearn.metrics import confusion_matrix, ConfusionMatrixDisplay\n",
    "from sklearn.model_selection import RandomizedSearchCV, StratifiedKFold\n",
    "from sklearn.metrics import mean_squared_error, mean_absolute_error, roc_auc_score\n",
    "import scipy.stats as stats"
   ]
  },
  {
   "cell_type": "code",
   "execution_count": 3,
   "metadata": {
    "colab": {
     "base_uri": "https://localhost:8080/"
    },
    "executionInfo": {
     "elapsed": 16676,
     "status": "ok",
     "timestamp": 1747175922925,
     "user": {
      "displayName": "Emanuelle",
      "userId": "06585436362636599965"
     },
     "user_tz": 240
    },
    "id": "HMDyC2FGr2b8",
    "outputId": "7b8e91f5-0f9f-4ea3-a606-073a029900b4"
   },
   "outputs": [
    {
     "name": "stdout",
     "output_type": "stream",
     "text": [
      "Collecting scikit-learn-intelex\n",
      "  Downloading scikit_learn_intelex-2025.5.0-py311-none-manylinux_2_28_x86_64.whl.metadata (11 kB)\n",
      "Collecting daal==2025.5.0 (from scikit-learn-intelex)\n",
      "  Downloading daal-2025.5.0-py2.py3-none-manylinux_2_28_x86_64.whl.metadata (1.1 kB)\n",
      "Requirement already satisfied: numpy>=1.19 in /usr/local/lib/python3.11/dist-packages (from scikit-learn-intelex) (2.0.2)\n",
      "Requirement already satisfied: scikit-learn>=0.22 in /usr/local/lib/python3.11/dist-packages (from scikit-learn-intelex) (1.6.1)\n",
      "Requirement already satisfied: tbb==2022.* in /usr/local/lib/python3.11/dist-packages (from daal==2025.5.0->scikit-learn-intelex) (2022.1.0)\n",
      "Requirement already satisfied: tcmlib==1.* in /usr/local/lib/python3.11/dist-packages (from tbb==2022.*->daal==2025.5.0->scikit-learn-intelex) (1.3.0)\n",
      "Requirement already satisfied: scipy>=1.6.0 in /usr/local/lib/python3.11/dist-packages (from scikit-learn>=0.22->scikit-learn-intelex) (1.15.3)\n",
      "Requirement already satisfied: joblib>=1.2.0 in /usr/local/lib/python3.11/dist-packages (from scikit-learn>=0.22->scikit-learn-intelex) (1.5.0)\n",
      "Requirement already satisfied: threadpoolctl>=3.1.0 in /usr/local/lib/python3.11/dist-packages (from scikit-learn>=0.22->scikit-learn-intelex) (3.6.0)\n",
      "Downloading scikit_learn_intelex-2025.5.0-py311-none-manylinux_2_28_x86_64.whl (4.3 MB)\n",
      "\u001b[2K   \u001b[90m━━━━━━━━━━━━━━━━━━━━━━━━━━━━━━━━━━━━━━━━\u001b[0m \u001b[32m4.3/4.3 MB\u001b[0m \u001b[31m3.1 MB/s\u001b[0m eta \u001b[36m0:00:00\u001b[0m\n",
      "\u001b[?25hDownloading daal-2025.5.0-py2.py3-none-manylinux_2_28_x86_64.whl (110.3 MB)\n",
      "\u001b[2K   \u001b[90m━━━━━━━━━━━━━━━━━━━━━━━━━━━━━━━━━━━━━━━━\u001b[0m \u001b[32m110.3/110.3 MB\u001b[0m \u001b[31m6.7 MB/s\u001b[0m eta \u001b[36m0:00:00\u001b[0m\n",
      "\u001b[?25hInstalling collected packages: daal, scikit-learn-intelex\n",
      "Successfully installed daal-2025.5.0 scikit-learn-intelex-2025.5.0\n"
     ]
    },
    {
     "name": "stderr",
     "output_type": "stream",
     "text": [
      "Extension for Scikit-learn* enabled (https://github.com/uxlfoundation/scikit-learn-intelex)\n"
     ]
    }
   ],
   "source": [
    "from sklearnex import patch_sklearn\n",
    "patch_sklearn()"
   ]
  },
  {
   "cell_type": "code",
   "execution_count": 6,
   "metadata": {
    "executionInfo": {
     "elapsed": 5,
     "status": "ok",
     "timestamp": 1747175976376,
     "user": {
      "displayName": "Emanuelle",
      "userId": "06585436362636599965"
     },
     "user_tz": 240
    },
    "id": "F712I3AMCFuK"
   },
   "outputs": [],
   "source": [
    "clf = XGBClassifier()\n",
    "\n",
    "params =  {\n",
    " \"n_estimators\": [100, 200, 300, 500],\n",
    " \"learning_rate\": [0.05, 0.10, 0.20],\n",
    " \"max_depth\": [6, 8, 10],\n",
    " \"min_child_weight\": [1, 3, 5],\n",
    " \"gamma\": [0.0, 0.1, 0.3],\n",
    " \"subsample\": [0.6, 0.8, 1.0],\n",
    " \"colsample_bytree\": [0.4, 0.6, 0.8],\n",
    " \"reg_alpha\": [0, 0.1, 1],\n",
    " \"reg_lambda\": [1, 1.5, 2]\n",
    "}"
   ]
  },
  {
   "cell_type": "code",
   "execution_count": null,
   "metadata": {
    "colab": {
     "base_uri": "https://localhost:8080/"
    },
    "executionInfo": {
     "elapsed": 18,
     "status": "ok",
     "timestamp": 1747174938654,
     "user": {
      "displayName": "Emanuelle",
      "userId": "06585436362636599965"
     },
     "user_tz": 240
    },
    "id": "4lLZqvp1rF1n",
    "outputId": "f7caf4bc-df23-4307-d7db-a9dce5e2f627"
   },
   "outputs": [
    {
     "name": "stdout",
     "output_type": "stream",
     "text": [
      "Número de combinações possíveis: 50\n",
      "Número de combinações a serem testadas: 10\n"
     ]
    }
   ],
   "source": [
    "i = 1\n",
    "for param in params.keys():\n",
    "  i*=len(params[param])\n",
    "iter = i\n",
    "n_iter = int(20/100*iter)\n",
    "print(f'Número de combinações possíveis: {iter}')\n",
    "print(f'Número de combinações a serem testadas: {n_iter}')"
   ]
  },
  {
   "cell_type": "code",
   "execution_count": null,
   "metadata": {
    "id": "FXclSxd1CFmI"
   },
   "outputs": [],
   "source": [
    "save_path = '/code/RQ1/results'\n",
    "dir_train = '/dataset/train.csv'\n",
    "dir_test = '/dataset/test.csv'\n",
    "df_train = pd.read_csv(dir_train)\n",
    "df_test = pd.read_csv(dir_test)\n",
    "df = pd.concat([df_train, df_test])\n",
    "df['categoria_rating'] = df['categoria'].astype(str) + \"_\" + df['rating'].astype(str)"
   ]
  },
  {
   "cell_type": "code",
   "execution_count": null,
   "metadata": {
    "id": "cMSSblR7NVfT"
   },
   "outputs": [],
   "source": [
    "X = df.drop(columns=['categoria','text','rating','categoria_rating'])\n",
    "y = df['rating']"
   ]
  },
  {
   "cell_type": "code",
   "execution_count": null,
   "metadata": {
    "id": "wX85XPwMNNjq"
   },
   "outputs": [],
   "source": [
    "kfold = StratifiedKFold(n_splits=5, shuffle=False, random_state=42)\n",
    "splits = list(kfold.split(X, df['categoria_rating'])) "
   ]
  },
  {
   "cell_type": "code",
   "execution_count": null,
   "metadata": {
    "id": "_g3Jq7FhCFeu"
   },
   "outputs": [],
   "source": [
    "random_search = RandomizedSearchCV(\n",
    "    clf,\n",
    "    param_distributions = params,\n",
    "    n_iter = n_iter,\n",
    "    scoring = 'neg_root_mean_squared_error',\n",
    "    cv = splits,\n",
    "    random_state = 42,\n",
    "    verbose = 3)"
   ]
  },
  {
   "cell_type": "code",
   "execution_count": null,
   "metadata": {
    "colab": {
     "base_uri": "https://localhost:8080/"
    },
    "id": "tphDLdgAav7G",
    "outputId": "336ecac5-c6b3-4936-f1f8-8936e97ad35b"
   },
   "outputs": [
    {
     "name": "stdout",
     "output_type": "stream",
     "text": [
      "Fitting 5 folds for each of 432 candidates, totalling 2160 fits\n"
     ]
    }
   ],
   "source": [
    "random_search.fit(X, y)"
   ]
  },
  {
   "cell_type": "code",
   "execution_count": null,
   "metadata": {
    "id": "l-dxQw2rCFV2"
   },
   "outputs": [],
   "source": [
    "best_params = random_search.best_params_\n",
    "print(f'Melhores parâmetros: {best_params}')"
   ]
  },
  {
   "cell_type": "code",
   "execution_count": null,
   "metadata": {
    "id": "BEUvkJjhVt5N"
   },
   "outputs": [],
   "source": [
    "def metrics(y_pred, y_test):\n",
    "      report = metrics.classification_report(y_test, y_pred, target_names=list(map(str, [1,2,3,4,5])), output_dict=True)\n",
    "      cm = confusion_matrix(y_test, y_pred, labels=[1,2,3,4,5])\n",
    "      f1_macro = report['macro avg']['f1-score']\n",
    "\n",
    "      mae = mean_absolute_error(y_test, y_pred)\n",
    "      rmse = np.sqrt(mean_squared_error(y_test, y_pred))\n",
    "\n",
    "      y_true_bin = np.array([1 if y in [4,5] else 0 for y in y_test])\n",
    "      y_pred_bin = np.array([1 if y in [4,5] else 0 for y in y_pred])\n",
    "      auc = roc_auc_score(y_true_bin, y_pred_bin)\n",
    "\n",
    "      return report, round(f1_macro,4), cm, round(mae,4), round(rmse,4), round(auc,4)"
   ]
  },
  {
   "cell_type": "code",
   "execution_count": null,
   "metadata": {
    "id": "MuNM1l_kYw6o"
   },
   "outputs": [],
   "source": [
    "all_metrics = []"
   ]
  },
  {
   "cell_type": "code",
   "execution_count": null,
   "metadata": {
    "id": "E3f4DdzHz-sL"
   },
   "outputs": [],
   "source": [
    "for i, (train_idx, test_idx) in enumerate(splits):\n",
    "    X_train, X_test = X.iloc[train_idx], X.iloc[test_idx]\n",
    "    y_train, y_test = y.iloc[train_idx], y.iloc[test_idx]\n",
    "\n",
    "    model = clf(**best_params)\n",
    "    model.fit(X_train, y_train)\n",
    "    y_pred = model.predict(X_test)\n",
    "\n",
    "    print(f\"\\n***FOLD {i + 1}***\")\n",
    "    all_metrics.append((metrics(y_pred, y_test)))"
   ]
  },
  {
   "cell_type": "code",
   "execution_count": null,
   "metadata": {
    "id": "MTdybszBZ08e"
   },
   "outputs": [],
   "source": [
    "for i, (report, f1_macro, cm, mae, rmse, auc) in enumerate(all_metrics):\n",
    "    print(f\"\\n***FOLD {i + 1}***\")\n",
    "    print(f\"\\nClassification Report:\\n{report}\")\n",
    "    print(f\"\\nF1 Macro: {f1_macro}\")\n",
    "    print(f\"\\nConfusion Matrix:\\n{cm}\")\n",
    "    print(f\"\\nMAE: {mae}\")\n",
    "    print(f\"\\nRMSE: {rmse}\")\n",
    "    print(f\"\\nAUC: {auc}\")"
   ]
  },
  {
   "cell_type": "code",
   "execution_count": null,
   "metadata": {
    "id": "alm3tyV9btz2"
   },
   "outputs": [],
   "source": [
    "results = pd.DataFrame(columns = ['MAE','STD_MAE','RMSE','STD_RMSE','AUC','STD_AUC',])\n",
    "for i, (report, f1_macro, cm, mae, rmse, auc) in enumerate(all_metrics):\n",
    "    results.loc[i] = [mae, 0, rmse, 0, auc, 0]"
   ]
  },
  {
   "cell_type": "code",
   "execution_count": null,
   "metadata": {
    "id": "US1unbKecjJd"
   },
   "outputs": [],
   "source": [
    "mean_mae = results['MAE'].mean()\n",
    "mean_rmse = results['RMSE'].mean()\n",
    "mean_auc = results['AUC'].mean()\n",
    "std_mae = results['MAE'].std()\n",
    "std_rmse = results['RMSE'].std()\n",
    "std_auc = results['AUC'].std()\n",
    "mean = {'MAE': mean_mae, 'STD_MAE': std_mae, 'RMSE': mean_rmse, 'STD_RMSE': std_rmse, 'AUC': mean_auc, 'STD_AUC': std_auc}"
   ]
  },
  {
   "cell_type": "code",
   "execution_count": null,
   "metadata": {
    "id": "VnW5baE0iI3E"
   },
   "outputs": [],
   "source": [
    "std_err_mae = stats.sem(results['MAE'])\n",
    "std_err_rmse = stats.sem(results['RMSE'])\n",
    "std_err_auc = stats.sem(results['AUC'])\n",
    "conf_int_mae = stats.t.interval(0.95, len(results['MAE'])-1, loc=mean_mae, scale=std_err_mae)\n",
    "conf_int_rmse = stats.t.interval(0.95, len(results['RMSE'])-1, loc=mean_rmse, scale=std_err_rmse)\n",
    "conf_int_auc = stats.t.interval(0.95, len(results['AUC'])-1, loc=mean_auc, scale=std_err_auc)"
   ]
  },
  {
   "cell_type": "code",
   "execution_count": null,
   "metadata": {
    "id": "nSYWybJGoqWm"
   },
   "outputs": [],
   "source": [
    "std_err_mae = stats.sem(results['MAE'])\n",
    "std_err_rmse = stats.sem(results['RMSE'])\n",
    "std_err_auc = stats.sem(results['AUC'])\n",
    "\n",
    "conf_int_mae = stats.t.interval(0.95, len(results['MAE'])-1, loc=mean_mae, scale=std_err_mae)\n",
    "conf_int_rmse = stats.t.interval(0.95, len(results['RMSE'])-1, loc=mean_rmse, scale=std_err_rmse)\n",
    "conf_int_auc = stats.t.interval(0.95, len(results['AUC'])-1, loc=mean_auc, scale=std_err_auc)\n",
    "\n",
    "print(f'MAE: {mean_mae:.4f} ± {std_err_mae:.4f} 95% IC: {conf_int_mae}')\n",
    "print(f'RMSE: {mean_rmse:.4f} ± {std_err_rmse:.4f} 95% IC: {conf_int_rmse}')\n",
    "print(f'AUC: {mean_auc:.4f} ± {std_err_auc:.4f} 95% IC: {conf_int_auc}')"
   ]
  },
  {
   "cell_type": "code",
   "execution_count": null,
   "metadata": {
    "id": "rPZ67fWfmD2r"
   },
   "outputs": [],
   "source": [
    "conf_int = {'MAE': conf_int_mae, 'STD_MAE': std_err_mae, 'RMSE': conf_int_rmse, 'STD_RMSE': std_err_rmse, 'AUC': conf_int_auc, 'STD_AUC': std_err_auc}\n",
    "results = pd.concat([results, pd.DataFrame([conf_int])], ignore_index=True)"
   ]
  },
  {
   "cell_type": "code",
   "execution_count": null,
   "metadata": {
    "id": "TxUoHM2hj5Rw"
   },
   "outputs": [],
   "source": [
    "results.to_csv(f'{save_path}/{clf.__class__.__name__}_results.csv')"
   ]
  }
 ],
 "metadata": {
  "accelerator": "GPU",
  "colab": {
   "gpuType": "A100",
   "machine_shape": "hm",
   "provenance": []
  },
  "kernelspec": {
   "display_name": "Python 3",
   "name": "python3"
  }
 },
 "nbformat": 4,
 "nbformat_minor": 0
}
