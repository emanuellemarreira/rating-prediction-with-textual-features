{
  "cells": [
    {
      "cell_type": "code",
      "execution_count": 3,
      "metadata": {
        "id": "FF16EOklv9Zj"
      },
      "outputs": [],
      "source": [
        "import pandas as pd\n",
        "import numpy as np\n",
        "from sklearn.ensemble import GradientBoostingClassifier\n",
        "from sklearn import metrics\n",
        "from sklearn.metrics import confusion_matrix, ConfusionMatrixDisplay\n",
        "from sklearn.model_selection import RandomizedSearchCV, StratifiedKFold\n",
        "from sklearn.metrics import mean_squared_error, mean_absolute_error, roc_auc_score"
      ]
    },
    {
      "cell_type": "code",
      "execution_count": null,
      "metadata": {
        "id": "F712I3AMCFuK"
      },
      "outputs": [],
      "source": [
        "clf = GradientBoostingClassifier()\n",
        "\n",
        "params = {\n",
        "    \"n_estimators\": [100, 200, 300, 500, 1000],\n",
        "    \"learning_rate\": [0.001, 0.01, 0.05, 0.1],\n",
        "    \"max_depth\": [3, 5, 10],\n",
        "    \"min_samples_split\": [5, 10, 15],\n",
        "    \"min_samples_leaf\": [1, 2, 4],\n",
        "    \"max_features\": [\"sqrt\", \"log2\", 0.5, None],\n",
        "    \"random_state\": [42]\n",
        "}"
      ]
    },
    {
      "cell_type": "code",
      "execution_count": null,
      "metadata": {
        "id": "FXclSxd1CFmI"
      },
      "outputs": [],
      "source": [
        "save_path = '/code/RQ1/results'\n",
        "dir_train = '/dataset/train.csv'\n",
        "dir_test = '/dataset/test.csv'\n",
        "df_train = pd.read_csv(dir_train)\n",
        "df_test = pd.read_csv(dir_test)\n",
        "df = pd.concat([df_train, df_test])\n",
        "df['categoria_rating'] = df['categoria'].astype(str) + \"_\" + df['rating'].astype(str)"
      ]
    },
    {
      "cell_type": "code",
      "execution_count": null,
      "metadata": {
        "id": "cMSSblR7NVfT"
      },
      "outputs": [],
      "source": [
        "X = df.drop(columns=['categoria','text','rating','categoria_rating'])\n",
        "y = df['rating']"
      ]
    },
    {
      "cell_type": "code",
      "execution_count": null,
      "metadata": {
        "id": "wX85XPwMNNjq"
      },
      "outputs": [],
      "source": [
        "kfold = StratifiedKFold(n_splits=5, shuffle=True, random_state=42)\n",
        "splits = list(kfold.split(X, df['categoria_rating'])) # usa x pra saber o número de linhas (amostras) e estratifica por categoria_rating"
      ]
    },
    {
      "cell_type": "code",
      "execution_count": null,
      "metadata": {
        "id": "_g3Jq7FhCFeu"
      },
      "outputs": [],
      "source": [
        "random_search = RandomizedSearchCV(\n",
        "    clf,\n",
        "    param_distributions = params,\n",
        "    n_iter = 432, # 20% de 2160\n",
        "    scoring = 'neg_root_mean_squared_error',\n",
        "    cv = splits,\n",
        "    random_state = 42,\n",
        "    verbose = 3)"
      ]
    },
    {
      "cell_type": "code",
      "execution_count": null,
      "metadata": {
        "id": "tphDLdgAav7G"
      },
      "outputs": [],
      "source": [
        "random_search.fit(X, y)"
      ]
    },
    {
      "cell_type": "code",
      "execution_count": null,
      "metadata": {
        "id": "l-dxQw2rCFV2"
      },
      "outputs": [],
      "source": [
        "best_params = random_search.best_params_\n",
        "print(f'Melhores parâmetros: {best_params}')"
      ]
    },
    {
      "cell_type": "code",
      "execution_count": null,
      "metadata": {
        "id": "BEUvkJjhVt5N"
      },
      "outputs": [],
      "source": [
        "def metrics(y_pred, y_test):\n",
        "      report = metrics.classification_report(y_test, y_pred, target_names=list(map(str, [1,2,3,4,5])), output_dict=True)\n",
        "      cm = confusion_matrix(y_test, y_pred, labels=[1,2,3,4,5])\n",
        "      f1_macro = report['macro avg']['f1-score']\n",
        "\n",
        "      mae = mean_absolute_error(y_test, y_pred)\n",
        "      rmse = np.sqrt(mean_squared_error(y_test, y_pred))\n",
        "\n",
        "      y_true_bin = np.array([1 if y in [4,5] else 0 for y in y_test])\n",
        "      y_pred_bin = np.array([1 if y in [4,5] else 0 for y in y_pred])\n",
        "      auc = roc_auc_score(y_true_bin, y_pred_bin)\n",
        "\n",
        "      return report, round(f1_macro,4), cm, round(mae,4), round(rmse,4), round(auc,4)"
      ]
    },
    {
      "cell_type": "code",
      "execution_count": null,
      "metadata": {
        "id": "MuNM1l_kYw6o"
      },
      "outputs": [],
      "source": [
        "all_y_true = []\n",
        "all_y_pred = []\n",
        "all_metrics = []"
      ]
    },
    {
      "cell_type": "code",
      "execution_count": null,
      "metadata": {
        "id": "E3f4DdzHz-sL"
      },
      "outputs": [],
      "source": [
        "for i, (train_idx, test_idx) in enumerate(splits):\n",
        "    X_train, X_test = X.iloc[train_idx], X.iloc[test_idx]\n",
        "    y_train, y_test = y.iloc[train_idx], y.iloc[test_idx]\n",
        "\n",
        "    model = clf(**best_params)\n",
        "    model.fit(X_train, y_train)\n",
        "    y_pred = model.predict(X_test)\n",
        "\n",
        "    all_y_true.extend(y_test)\n",
        "    all_y_pred.extend(y_pred)\n",
        "\n",
        "    print(f\"\\n***FOLD {i + 1}***\")\n",
        "    all_metrics.append((metrics(y_pred, y_test)))"
      ]
    },
    {
      "cell_type": "code",
      "execution_count": null,
      "metadata": {
        "id": "MTdybszBZ08e"
      },
      "outputs": [],
      "source": [
        "for i, (report, f1_macro, cm, mae, rmse, auc) in enumerate(all_metrics):\n",
        "    print(f\"\\n***FOLD {i + 1}***\")\n",
        "    print(f\"\\nClassification Report:\\n{report}\")\n",
        "    print(f\"\\nF1 Macro: {f1_macro}\")\n",
        "    print(f\"\\nConfusion Matrix:\\n{cm}\")\n",
        "    print(f\"\\nMAE: {mae}\")\n",
        "    print(f\"\\nRMSE: {rmse}\")\n",
        "    print(f\"\\nAUC: {auc}\")\n"
      ]
    },
    {
      "cell_type": "code",
      "execution_count": null,
      "metadata": {
        "id": "alm3tyV9btz2"
      },
      "outputs": [],
      "source": [
        "results = pd.DataFrame(columns = ['MAE','STD_MAE','RMSE','STD_RMSE','AUC','STD_AUC'])\n",
        "for i, (report, f1_macro, cm, mae, rmse, auc) in enumerate(all_metrics):\n",
        "    results.loc[i] = [mae, 0, rmse, 0, auc, 0]"
      ]
    },
    {
      "cell_type": "code",
      "execution_count": null,
      "metadata": {
        "id": "US1unbKecjJd"
      },
      "outputs": [],
      "source": [
        "mean_mae = results['MAE'].mean()\n",
        "mean_rmse = results['RMSE'].mean()\n",
        "mean_auc = results['AUC'].mean()\n",
        "std_mae = results['MAE'].std()\n",
        "std_rmse = results['RMSE'].std()\n",
        "std_auc = results['AUC'].std()\n",
        "mean = {'MAE': mean_mae, 'STD_MAE': std_mae, 'RMSE': mean_rmse, 'STD_RMSE': std_rmse, 'AUC': mean_auc, 'STD_AUC': std_auc}\n",
        "results = pd.concat([results, pd.DataFrame([mean])], ignore_index=True)\n",
        "results.to_csv(f'{save_path}/{clf.__class__.__name__}_results')"
      ]
    }
  ],
  "metadata": {
    "colab": {
      "provenance": []
    },
    "kernelspec": {
      "display_name": "paic",
      "language": "python",
      "name": "python3"
    },
    "language_info": {
      "codemirror_mode": {
        "name": "ipython",
        "version": 3
      },
      "file_extension": ".py",
      "mimetype": "text/x-python",
      "name": "python",
      "nbconvert_exporter": "python",
      "pygments_lexer": "ipython3",
      "version": "3.13.3"
    }
  },
  "nbformat": 4,
  "nbformat_minor": 0
}
