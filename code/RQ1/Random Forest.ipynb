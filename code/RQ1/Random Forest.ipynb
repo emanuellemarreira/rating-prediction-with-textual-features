{
 "cells": [
  {
   "cell_type": "code",
   "execution_count": 12,
   "metadata": {
    "executionInfo": {
     "elapsed": 3,
     "status": "ok",
     "timestamp": 1747309504114,
     "user": {
      "displayName": "Emanuelle",
      "userId": "06585436362636599965"
     },
     "user_tz": 240
    },
    "id": "FF16EOklv9Zj"
   },
   "outputs": [],
   "source": [
    "import pandas as pd\n",
    "import numpy as np\n",
    "import nltk\n",
    "from sklearn.ensemble import RandomForestClassifier\n",
    "from sklearn import metrics\n",
    "from sklearn.metrics import confusion_matrix, ConfusionMatrixDisplay, classification_report\n",
    "from sklearn.model_selection import RandomizedSearchCV, StratifiedKFold\n",
    "from sklearn.metrics import mean_squared_error, mean_absolute_error, roc_auc_score\n",
    "import scipy.stats as stats"
   ]
  },
  {
   "cell_type": "code",
   "execution_count": 13,
   "metadata": {
    "colab": {
     "base_uri": "https://localhost:8080/"
    },
    "executionInfo": {
     "elapsed": 1999,
     "status": "ok",
     "timestamp": 1747309506117,
     "user": {
      "displayName": "Emanuelle",
      "userId": "06585436362636599965"
     },
     "user_tz": 240
    },
    "id": "SIqTONZuvk7Y",
    "outputId": "183a0c91-a0b0-4a5c-c47b-9b09d92dc606"
   },
   "outputs": [],
   "source": [
    "from sklearnex import patch_sklearn\n",
    "patch_sklearn()"
   ]
  },
  {
   "cell_type": "code",
   "execution_count": 14,
   "metadata": {
    "executionInfo": {
     "elapsed": 3,
     "status": "ok",
     "timestamp": 1747309506122,
     "user": {
      "displayName": "Emanuelle",
      "userId": "06585436362636599965"
     },
     "user_tz": 240
    },
    "id": "F712I3AMCFuK"
   },
   "outputs": [],
   "source": [
    "clf = RandomForestClassifier()\n",
    "\n",
    "params = {\n",
    "    \"n_estimators\": [100, 200, 300, 500, 1000],\n",
    "    \"max_depth\": [5, 10, 30, None],\n",
    "    \"min_samples_split\": [5, 10, 20],\n",
    "    \"min_samples_leaf\": [1, 2, 4],\n",
    "    \"max_features\": [\"sqrt\", \"log2\", 0.5, None],\n",
    "    \"class_weight\": [None, \"balanced\", \"balanced_subsample\"],\n",
    "    \"max_leaf_nodes\": [None, 10, 20],\n",
    "    \"min_impurity_decrease\": [0.0, 0.01, 0.1],\n",
    "    \"random_state\":[None]\n",
    "}"
   ]
  },
  {
   "cell_type": "code",
   "execution_count": 15,
   "metadata": {
    "colab": {
     "base_uri": "https://localhost:8080/"
    },
    "executionInfo": {
     "elapsed": 8,
     "status": "ok",
     "timestamp": 1747309506133,
     "user": {
      "displayName": "Emanuelle",
      "userId": "06585436362636599965"
     },
     "user_tz": 240
    },
    "id": "-B9nOiatvsJH",
    "outputId": "5977fefe-a06b-4ade-9f6a-377f822e3589"
   },
   "outputs": [],
   "source": [
    "i = 1\n",
    "for param in params.keys():\n",
    "  i*=len(params[param])\n",
    "iter = i\n",
    "n_iter = int(10/100*iter)\n",
    "print(f'Número de combinações possíveis: {iter}')\n",
    "print(f'Número de combinações a serem testadas: {n_iter}')"
   ]
  },
  {
   "cell_type": "code",
   "execution_count": 16,
   "metadata": {
    "executionInfo": {
     "elapsed": 379,
     "status": "ok",
     "timestamp": 1747309506514,
     "user": {
      "displayName": "Emanuelle",
      "userId": "06585436362636599965"
     },
     "user_tz": 240
    },
    "id": "FXclSxd1CFmI"
   },
   "outputs": [],
   "source": [
    "save_path = '/code/RQ1/results'\n",
    "dir_train = '/dataset/train.csv'\n",
    "dir_test = '/dataset/test.csv'\n",
    "df_train = pd.read_csv(dir_train)\n",
    "df_test = pd.read_csv(dir_test)\n",
    "df = pd.concat([df_train, df_test])\n",
    "df['categoria_rating'] = df['categoria'].astype(str) + \"_\" + df['rating'].astype(str)"
   ]
  },
  {
   "cell_type": "code",
   "execution_count": 17,
   "metadata": {
    "executionInfo": {
     "elapsed": 3,
     "status": "ok",
     "timestamp": 1747309506520,
     "user": {
      "displayName": "Emanuelle",
      "userId": "06585436362636599965"
     },
     "user_tz": 240
    },
    "id": "cMSSblR7NVfT"
   },
   "outputs": [],
   "source": [
    "X = df.drop(columns=['categoria','text','rating','categoria_rating'])\n",
    "y = df['rating']"
   ]
  },
  {
   "cell_type": "code",
   "execution_count": 18,
   "metadata": {
    "executionInfo": {
     "elapsed": 12,
     "status": "ok",
     "timestamp": 1747309506532,
     "user": {
      "displayName": "Emanuelle",
      "userId": "06585436362636599965"
     },
     "user_tz": 240
    },
    "id": "wX85XPwMNNjq"
   },
   "outputs": [],
   "source": [
    "kfold = StratifiedKFold(n_splits=5, shuffle=False, random_state=None)\n",
    "splits = list(kfold.split(X, df['categoria_rating']))"
   ]
  },
  {
   "cell_type": "code",
   "execution_count": 19,
   "metadata": {
    "executionInfo": {
     "elapsed": 6,
     "status": "ok",
     "timestamp": 1747309506541,
     "user": {
      "displayName": "Emanuelle",
      "userId": "06585436362636599965"
     },
     "user_tz": 240
    },
    "id": "_g3Jq7FhCFeu"
   },
   "outputs": [],
   "source": [
    "random_search = RandomizedSearchCV(\n",
    "    clf,\n",
    "    param_distributions = params,\n",
    "    n_iter = n_iter,\n",
    "    scoring = 'neg_root_mean_squared_error',\n",
    "    cv = splits,\n",
    "    random_state = 42,\n",
    "    verbose = 3)"
   ]
  },
  {
   "cell_type": "code",
   "execution_count": null,
   "metadata": {
    "colab": {
     "base_uri": "https://localhost:8080/"
    },
    "id": "tphDLdgAav7G",
    "outputId": "d7a4ec2d-d3c1-4159-b4a8-da3b01507db7"
   },
   "outputs": [],
   "source": [
    "random_search.fit(X, y)"
   ]
  },
  {
   "cell_type": "code",
   "execution_count": null,
   "metadata": {
    "id": "l-dxQw2rCFV2"
   },
   "outputs": [],
   "source": [
    "best_params = random_search.best_params_\n",
    "print(f'Melhores parâmetros: {best_params}')"
   ]
  },
  {
   "cell_type": "code",
   "execution_count": null,
   "metadata": {
    "id": "BEUvkJjhVt5N"
   },
   "outputs": [],
   "source": [
    "def calculate_metrics(y_pred, y_test):\n",
    "      report = metrics.classification_report(y_test, y_pred, target_names=list(map(str, [1,2,3,4,5])), output_dict=True)\n",
    "      cm = confusion_matrix(y_test, y_pred, labels=[1,2,3,4,5])\n",
    "      f1_macro = report['macro avg']['f1-score']\n",
    "\n",
    "      mae = mean_absolute_error(y_test, y_pred)\n",
    "      rmse = np.sqrt(mean_squared_error(y_test, y_pred))\n",
    "\n",
    "      y_true_bin = np.array([1 if y in [4,5] else 0 for y in y_test])\n",
    "      y_pred_bin = np.array([1 if y in [4,5] else 0 for y in y_pred])\n",
    "      auc = roc_auc_score(y_true_bin, y_pred_bin)\n",
    "\n",
    "      return report, round(f1_macro,4), cm, round(mae,4), round(rmse,4), round(auc,4)"
   ]
  },
  {
   "cell_type": "code",
   "execution_count": null,
   "metadata": {
    "id": "MuNM1l_kYw6o"
   },
   "outputs": [],
   "source": [
    "all_metrics = []"
   ]
  },
  {
   "cell_type": "code",
   "execution_count": null,
   "metadata": {
    "id": "E3f4DdzHz-sL"
   },
   "outputs": [],
   "source": [
    "for i, (train_idx, test_idx) in enumerate(splits):\n",
    "    X_train, X_test = X.iloc[train_idx], X.iloc[test_idx]\n",
    "    y_train, y_test = y.iloc[train_idx], y.iloc[test_idx]\n",
    "\n",
    "    model = clf\n",
    "    model.set_params(**best_params)\n",
    "    model.fit(X_train, y_train)\n",
    "    y_pred = model.predict(X_test)\n",
    "\n",
    "    print(f\"\\n***FOLD {i + 1}***\")\n",
    "    all_metrics.append((calculate_metrics(y_pred, y_test)))"
   ]
  },
  {
   "cell_type": "code",
   "execution_count": null,
   "metadata": {
    "id": "MTdybszBZ08e"
   },
   "outputs": [],
   "source": [
    "for i, (report, f1_macro, cm, mae, rmse, auc) in enumerate(all_metrics):\n",
    "    print(f\"\\n***FOLD {i + 1}***\")\n",
    "    print(f\"\\nClassification Report:\\n{report}\")\n",
    "    print(f\"\\nF1 Macro: {f1_macro}\")\n",
    "    print(f\"\\nConfusion Matrix:\\n{cm}\")\n",
    "    print(f\"\\nMAE: {mae}\")\n",
    "    print(f\"\\nRMSE: {rmse}\")\n",
    "    print(f\"\\nAUC: {auc}\")"
   ]
  },
  {
   "cell_type": "code",
   "execution_count": null,
   "metadata": {
    "id": "alm3tyV9btz2"
   },
   "outputs": [],
   "source": [
    "results = pd.DataFrame(columns = ['MAE','STD_MAE','RMSE','STD_RMSE','AUC','STD_AUC','CM'])\n",
    "for i, (report, f1_macro, cm, mae, rmse, auc) in enumerate(all_metrics):\n",
    "    results.loc[i] = [mae, 0, rmse, 0, auc, 0,cm]"
   ]
  },
  {
   "cell_type": "code",
   "execution_count": null,
   "metadata": {
    "id": "US1unbKecjJd"
   },
   "outputs": [],
   "source": [
    "mean_mae = results['MAE'].mean()\n",
    "mean_rmse = results['RMSE'].mean()\n",
    "mean_auc = results['AUC'].mean()\n",
    "std_mae = results['MAE'].std()\n",
    "std_rmse = results['RMSE'].std()\n",
    "std_auc = results['AUC'].std()\n",
    "mean = {'MAE': round(mean_mae,4), 'STD_MAE': round(std_mae,4), 'RMSE': round(mean_rmse,4), 'STD_RMSE': round(std_rmse,4), 'AUC': round(mean_auc,4), 'STD_AUC': round(std_auc,4),'CM':\"--\"}\n",
    "results = pd.concat([results, pd.DataFrame([mean])], ignore_index=True)"
   ]
  },
  {
   "cell_type": "code",
   "execution_count": null,
   "metadata": {
    "id": "nSYWybJGoqWm"
   },
   "outputs": [],
   "source": [
    "std_err_mae = stats.sem(results['MAE'])\n",
    "std_err_rmse = stats.sem(results['RMSE'])\n",
    "std_err_auc = stats.sem(results['AUC'])\n",
    "\n",
    "conf_int_mae = stats.t.interval(0.95, len(results['MAE'])-1, loc=mean_mae, scale=std_err_mae)\n",
    "conf_int_mae = [round(float(conf_int_mae[0]),4), round(float(conf_int_mae[1]),4)]\n",
    "conf_int_rmse = stats.t.interval(0.95, len(results['RMSE'])-1, loc=mean_rmse, scale=std_err_rmse)\n",
    "conf_int_rmse = [round(float(conf_int_rmse[0]),4), round(float(conf_int_rmse[1]),4)]\n",
    "conf_int_auc = stats.t.interval(0.95, len(results['AUC'])-1, loc=mean_auc, scale=std_err_auc)\n",
    "conf_int_auc = [round(float(conf_int_auc[0]),4), round(float(conf_int_auc[1]),4)]\n",
    "\n",
    "print(f'MAE: {mean_mae:.4f} ± {std_mae:.4f} 95% IC: [{conf_int_mae[0]:.4f}, {conf_int_mae[1]:.4f}]')\n",
    "print(f'RMSE: {mean_rmse:.4f} ± {std_rmse:.4f} 95% IC: [{conf_int_rmse[0]:.4f}, {conf_int_rmse[1]:.4f}]')\n",
    "print(f'AUC: {mean_auc:.4f} ± {std_auc:.4f} 95% IC: [{conf_int_auc[0]:.4f}, {conf_int_auc[1]:.4f}]')"
   ]
  },
  {
   "cell_type": "code",
   "execution_count": null,
   "metadata": {
    "id": "rPZ67fWfmD2r"
   },
   "outputs": [],
   "source": [
    "conf_int = {'MAE': conf_int_mae, 'STD_MAE': round(std_err_mae,4), 'RMSE': conf_int_rmse, 'STD_RMSE': round(std_err_rmse,4), 'AUC': conf_int_auc, 'STD_AUC': round(std_err_auc,4), 'CM': '--'}\n",
    "results = pd.concat([results, pd.DataFrame([conf_int])], ignore_index=True)"
   ]
  },
  {
   "cell_type": "code",
   "execution_count": null,
   "metadata": {
    "id": "TxUoHM2hj5Rw"
   },
   "outputs": [],
   "source": [
    "results.to_csv(f'{save_path}/{clf.__class__.__name__}_results.csv')"
   ]
  }
 ],
 "metadata": {
  "colab": {
   "machine_shape": "hm",
   "provenance": []
  },
  "kernelspec": {
   "display_name": "Python 3",
   "name": "python3"
  }
 },
 "nbformat": 4,
 "nbformat_minor": 0
}
